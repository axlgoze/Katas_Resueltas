{
 "cells": [
  {
   "cell_type": "markdown",
   "metadata": {},
   "source": [
    "## Expresiones de prueba\n",
    "\n",
    "se usan para comprobar las condiciones de un programa"
   ]
  },
  {
   "cell_type": "code",
   "execution_count": 2,
   "metadata": {},
   "outputs": [
    {
     "name": "stdout",
     "output_type": "stream",
     "text": [
      "55\n"
     ]
    }
   ],
   "source": [
    "a = 97\n",
    "b = 55\n",
    "\n",
    "#test expression / expresión de prueba\n",
    "\n",
    "if a < b:\n",
    "    #statement to be run / instrucción a ejecutar\n",
    "    print(b)\n",
    "\n",
    "if b < a:\n",
    "    print(b)\n"
   ]
  },
  {
   "cell_type": "markdown",
   "metadata": {},
   "source": [
    "## sintaxis de instrucción if\n",
    "\n",
    "siempre sera\n",
    " if expresion_prueba:\n",
    "    # instruccion (es) a ejecutar\n",
    "\n",
    "la instrucción if debe tener sangría, si una instruccion no la tiene este se ejecutara despues de la expresion de prueba"
   ]
  },
  {
   "cell_type": "code",
   "execution_count": 3,
   "metadata": {},
   "outputs": [
    {
     "name": "stdout",
     "output_type": "stream",
     "text": [
      "93\n"
     ]
    }
   ],
   "source": [
    "a = 93\n",
    "b = 27\n",
    "if a >= b:\n",
    "    print(a)"
   ]
  },
  {
   "cell_type": "code",
   "execution_count": 6,
   "metadata": {},
   "outputs": [
    {
     "name": "stdout",
     "output_type": "stream",
     "text": [
      "44\n"
     ]
    }
   ],
   "source": [
    "a = 24\n",
    "b = 44\n",
    "if a <= 0:\n",
    "    print(a)\n",
    "print(b)"
   ]
  },
  {
   "cell_type": "markdown",
   "metadata": {},
   "source": [
    "## Expresión de prueba else\n",
    "\n",
    "la sintaxis siempre sera: \n",
    "\n",
    "```\n",
    "if expresion_prueba:\n",
    "    # instruccion(es) a ejecutar\n",
    "else:\n",
    "    # instruccion(es) a ejecutar\n",
    "```"
   ]
  },
  {
   "cell_type": "markdown",
   "metadata": {},
   "source": [
    "## Expresión de prueba elif\n",
    "\n",
    "es la abreviación de else if y sirve para agregar mas expresiones de prueba\n",
    "\n",
    "El programa solo ingresará a un elif si la primera instrucción es FALSE.\n",
    "\n",
    "sintaxis\n",
    "```\n",
    "if test_expression:\n",
    "    # statement(s) to be run\n",
    "elif test_expression:\n",
    "    # statement(s) to be run\n",
    "```"
   ]
  },
  {
   "cell_type": "code",
   "execution_count": 10,
   "metadata": {},
   "outputs": [
    {
     "name": "stdout",
     "output_type": "stream",
     "text": [
      "a es mayor que b y b es mayor que c\n"
     ]
    }
   ],
   "source": [
    "## Conditional logic\n",
    "\n",
    "a = 44\n",
    "b = 33\n",
    "c = 11\n",
    "if a > b:\n",
    "    if b > c:\n",
    "        print(\"a es mayor que b y b es mayor que c\")\n",
    "elif a == b:\n",
    "    print(\"a y b son iguales\")\n",
    "else:\n",
    "    print(\"a es menor que b\")"
   ]
  },
  {
   "cell_type": "markdown",
   "metadata": {},
   "source": [
    "## Operadores and & or"
   ]
  },
  {
   "cell_type": "code",
   "execution_count": 13,
   "metadata": {},
   "outputs": [
    {
     "name": "stdout",
     "output_type": "stream",
     "text": [
      "111\n"
     ]
    }
   ],
   "source": [
    "a = 34\n",
    "b = 77\n",
    "if a == b or b == 77:\n",
    "    print(a + b)"
   ]
  },
  {
   "cell_type": "markdown",
   "metadata": {},
   "source": [
    "para que una condicion or sea TRUE basta con que una de las subexpresiones se cumpla\n",
    "\n",
    "para que una condicion and sea TRUE ambas subexpresiones deben cumplirse"
   ]
  },
  {
   "cell_type": "code",
   "execution_count": 15,
   "metadata": {},
   "outputs": [],
   "source": [
    "## both conditions must be true to run the is statement\n",
    "a = 23\n",
    "b = 99\n",
    "if a == 99 and b == 23:\n",
    "    print(a+b)"
   ]
  }
 ],
 "metadata": {
  "interpreter": {
   "hash": "b8322e9ee5683fdcd1142be13d9a2901be7f66fa8a504081bce38a8b3dc76b71"
  },
  "kernelspec": {
   "display_name": "Python 3.10.2 64-bit",
   "language": "python",
   "name": "python3"
  },
  "language_info": {
   "codemirror_mode": {
    "name": "ipython",
    "version": 3
   },
   "file_extension": ".py",
   "mimetype": "text/x-python",
   "name": "python",
   "nbconvert_exporter": "python",
   "pygments_lexer": "ipython3",
   "version": "3.10.2"
  },
  "orig_nbformat": 4
 },
 "nbformat": 4,
 "nbformat_minor": 2
}
